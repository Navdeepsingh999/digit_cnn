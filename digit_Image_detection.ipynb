{
 "cells": [
  {
   "cell_type": "code",
   "execution_count": 1,
   "metadata": {},
   "outputs": [],
   "source": [
    "from keras.models  import load_model\n",
    "import numpy as np\n",
    "import cv2"
   ]
  },
  {
   "cell_type": "code",
   "execution_count": 2,
   "metadata": {},
   "outputs": [
    {
     "name": "stdout",
     "output_type": "stream",
     "text": [
      "WARNING:tensorflow:SavedModel saved prior to TF 2.5 detected when loading Keras model. Please ensure that you are saving the model with model.save() or tf.keras.models.save_model(), *NOT* tf.saved_model.save(). To confirm, there should be a file named \"keras_metadata.pb\" in the SavedModel directory.\n"
     ]
    }
   ],
   "source": [
    "#load your model\n",
    "model = load_model(\"MNIST-CNN.model\")"
   ]
  },
  {
   "cell_type": "code",
   "execution_count": 3,
   "metadata": {},
   "outputs": [],
   "source": [
    "#load your image to recognit image\n",
    "#image = cv2.imread(\"C:\\\\Users\\\\hp\\\\jupyter_notebook_1\\\\deep neural network\\\\DNN_1\\\\dataset\\\\image7.png\")\n",
    "#image1 = cv2.imread(\"C:\\\\Users\\\\hp\\\\jupyter_notebook_1\\\\deep neural network\\\\DNN_1\\\\dataset\\\\image7.png\")\n",
    "\n",
    "image = cv2.imread(\"D:\\\\navdeep\\\\hp\\\\study\\\\jupyter_notebook_1\\\\deep neural network\\\\DNN_1\\\\dataset\\\\image7.png\")\n",
    "image1 = cv2.imread(\"D:\\\\navdeep\\\\hp\\\\study\\\\jupyter_notebook_1\\\\deep neural network\\\\DNN_1\\\\dataset\\\\image7.png\")"
   ]
  },
  {
   "cell_type": "code",
   "execution_count": 4,
   "metadata": {},
   "outputs": [],
   "source": [
    "#perform some basic operation to smooth image\n",
    "image = cv2.cvtColor(image, cv2.COLOR_BGR2GRAY)\n",
    "image = cv2.GaussianBlur(image, (5, 5), 0)"
   ]
  },
  {
   "cell_type": "code",
   "execution_count": 5,
   "metadata": {},
   "outputs": [],
   "source": [
    "#find threshold image\n",
    "ret, image = cv2.threshold(image, 90, 255, cv2.THRESH_BINARY_INV+cv2.THRESH_OTSU)\n",
    "\n",
    "#find contours on image and draw it.\n",
    "ctrs, hier = cv2.findContours(image, cv2.RETR_EXTERNAL, cv2.CHAIN_APPROX_SIMPLE)\n",
    "rects = [cv2.boundingRect(ctr) for ctr in ctrs]"
   ]
  },
  {
   "cell_type": "code",
   "execution_count": 6,
   "metadata": {},
   "outputs": [
    {
     "name": "stdout",
     "output_type": "stream",
     "text": [
      "1/1 [==============================] - 0s 79ms/step\n",
      "Result: 0\n",
      "1/1 [==============================] - 0s 19ms/step\n",
      "Result: 9\n",
      "1/1 [==============================] - 0s 1ms/step\n",
      "Result: 8\n",
      "1/1 [==============================] - 0s 6ms/step\n",
      "Result: 7\n",
      "1/1 [==============================] - 0s 7ms/step\n",
      "Result: 3\n",
      "1/1 [==============================] - 0s 13ms/step\n",
      "Result: 4\n",
      "1/1 [==============================] - 0s 12ms/step\n",
      "Result: 2\n",
      "1/1 [==============================] - 0s 6ms/step\n",
      "Result: 2\n",
      "1/1 [==============================] - 0s 6ms/step\n",
      "Result: 5\n",
      "1/1 [==============================] - 0s 5ms/step\n",
      "Result: 4\n",
      "1/1 [==============================] - 0s 4ms/step\n",
      "Result: 6\n",
      "1/1 [==============================] - 0s 4ms/step\n",
      "Result: 3\n",
      "1/1 [==============================] - 0s 6ms/step\n",
      "Result: 2\n",
      "1/1 [==============================] - 0s 16ms/step\n",
      "Result: 7\n"
     ]
    }
   ],
   "source": [
    "for rect in rects:\n",
    "    #draw rectangle on image using contours\n",
    "    cv2.rectangle(image1, (rect[0], rect[1]), (rect[0] + rect[2], rect[1] + rect[3]), (0, 255, 0), 3)\n",
    "    leng = int(rect[3] * 1.6)\n",
    "    pt1 = abs(int(rect[1] + rect[3] // 2 - leng // 2))\n",
    "    pt2 = abs(int(rect[0] + rect[2] // 2 - leng // 2))\n",
    "    #resize image\n",
    "    roi = image[pt1:pt1+leng, pt2:pt2+leng]\n",
    "    roi = cv2.resize(roi,(28, 28), interpolation=cv2.INTER_AREA)\n",
    "\n",
    "    #reshape your image according to your model\n",
    "    roi = roi.reshape(-1,28, 28, 1)\n",
    "    roi = np.array(roi, dtype='float32')\n",
    "    roi /= 255\n",
    "    #to perform prediction on your image\n",
    "    pred_array = model.predict(roi)\n",
    "    pred_array = np.argmax(pred_array)\n",
    "\n",
    "    #print result\n",
    "    print('Result: {0}'.format(pred_array))\n",
    "\n",
    "    #print text on your image\n",
    "    cv2.putText(image1, str(pred_array), (rect[0], rect[1]),cv2.FONT_HERSHEY_DUPLEX, 2, (0, 0, 255), 3)\n",
    "    #show your image\n",
    "\n",
    "\n",
    "\n",
    "\n"
   ]
  },
  {
   "cell_type": "code",
   "execution_count": 7,
   "metadata": {},
   "outputs": [
    {
     "data": {
      "text/plain": [
       "27"
      ]
     },
     "execution_count": 7,
     "metadata": {},
     "output_type": "execute_result"
    }
   ],
   "source": [
    "cv2.imshow(\"Result4\",image1)\n",
    "cv2.waitKey(0)"
   ]
  },
  {
   "cell_type": "code",
   "execution_count": 8,
   "metadata": {},
   "outputs": [
    {
     "data": {
      "text/plain": [
       "-1"
      ]
     },
     "execution_count": 8,
     "metadata": {},
     "output_type": "execute_result"
    }
   ],
   "source": [
    "# save your image\n",
    "# cv2.imwrite(\"image4.jpg\",image1)\n",
    "\n",
    "# cv2.waitKey(0)"
   ]
  },
  {
   "cell_type": "code",
   "execution_count": null,
   "metadata": {},
   "outputs": [],
   "source": []
  }
 ],
 "metadata": {
  "kernelspec": {
   "display_name": "Python 3 (ipykernel)",
   "language": "python",
   "name": "python3"
  },
  "language_info": {
   "codemirror_mode": {
    "name": "ipython",
    "version": 3
   },
   "file_extension": ".py",
   "mimetype": "text/x-python",
   "name": "python",
   "nbconvert_exporter": "python",
   "pygments_lexer": "ipython3",
   "version": "3.11.3"
  }
 },
 "nbformat": 4,
 "nbformat_minor": 4
}
